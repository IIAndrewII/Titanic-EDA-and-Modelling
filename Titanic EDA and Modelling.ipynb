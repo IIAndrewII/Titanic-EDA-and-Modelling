{
 "cells": [
  {
   "cell_type": "markdown",
   "id": "1b841081",
   "metadata": {},
   "source": [
    "# Dataset Description\n",
    "The Titanic dataset contains information about passengers who were on board the Titanic when it sank on April 15, 1912. The variables in the dataset include:\n",
    "\n",
    "1. PassengerId: a unique identifier for each passenger\n",
    "2. Survived: a binary variable indicating whether a passenger survived (1) or not (0)\n",
    "3. Pclass: the passenger class (1 = first class, 2 = second class, 3 = third class)\n",
    "4. Name: the name of the passenger\n",
    "5. Sex: the gender of the passenger (male or female)\n",
    "6. Age: the age of the passenger\n",
    "7. SibSp: the number of siblings/spouses aboard the Titanic for the passenger\n",
    "8. Parch: the number of parents/children aboard the Titanic for the passenger\n",
    "9. Ticket: the ticket number for the passenger\n",
    "10. Fare: the fare paid by the passenger\n",
    "11. Cabin: the cabin number for the passenger\n",
    "12. Embarked: the port of embarkation for the passenger (C = Cherbourg, Q = Queenstown, S = Southampton)"
   ]
  },
  {
   "cell_type": "code",
   "execution_count": 1,
   "id": "30940e61",
   "metadata": {},
   "outputs": [],
   "source": [
    "import pandas as pd\n",
    "import numpy as np\n",
    "import matplotlib.pyplot as plt\n",
    "import seaborn as sns"
   ]
  },
  {
   "cell_type": "code",
   "execution_count": 2,
   "id": "fc772aa0",
   "metadata": {},
   "outputs": [],
   "source": [
    "# Read the data\n",
    "df = pd.read_csv('train.csv', index_col='PassengerId' ) \n",
    "df_test = pd.read_csv('test.csv', index_col='PassengerId') "
   ]
  },
  {
   "cell_type": "code",
   "execution_count": 3,
   "id": "afcaa78c",
   "metadata": {},
   "outputs": [
    {
     "name": "stdout",
     "output_type": "stream",
     "text": [
      "(891, 11)\n",
      "(418, 10)\n"
     ]
    }
   ],
   "source": [
    "print(df.shape)\n",
    "print(df_test.shape)"
   ]
  },
  {
   "cell_type": "code",
   "execution_count": 4,
   "id": "2a7ce8fa",
   "metadata": {},
   "outputs": [
    {
     "data": {
      "text/html": [
       "<div>\n",
       "<style scoped>\n",
       "    .dataframe tbody tr th:only-of-type {\n",
       "        vertical-align: middle;\n",
       "    }\n",
       "\n",
       "    .dataframe tbody tr th {\n",
       "        vertical-align: top;\n",
       "    }\n",
       "\n",
       "    .dataframe thead th {\n",
       "        text-align: right;\n",
       "    }\n",
       "</style>\n",
       "<table border=\"1\" class=\"dataframe\">\n",
       "  <thead>\n",
       "    <tr style=\"text-align: right;\">\n",
       "      <th></th>\n",
       "      <th>Survived</th>\n",
       "      <th>Pclass</th>\n",
       "      <th>Name</th>\n",
       "      <th>Sex</th>\n",
       "      <th>Age</th>\n",
       "      <th>SibSp</th>\n",
       "      <th>Parch</th>\n",
       "      <th>Ticket</th>\n",
       "      <th>Fare</th>\n",
       "      <th>Cabin</th>\n",
       "      <th>Embarked</th>\n",
       "    </tr>\n",
       "    <tr>\n",
       "      <th>PassengerId</th>\n",
       "      <th></th>\n",
       "      <th></th>\n",
       "      <th></th>\n",
       "      <th></th>\n",
       "      <th></th>\n",
       "      <th></th>\n",
       "      <th></th>\n",
       "      <th></th>\n",
       "      <th></th>\n",
       "      <th></th>\n",
       "      <th></th>\n",
       "    </tr>\n",
       "  </thead>\n",
       "  <tbody>\n",
       "    <tr>\n",
       "      <th>1</th>\n",
       "      <td>0</td>\n",
       "      <td>3</td>\n",
       "      <td>Braund, Mr. Owen Harris</td>\n",
       "      <td>male</td>\n",
       "      <td>22.0</td>\n",
       "      <td>1</td>\n",
       "      <td>0</td>\n",
       "      <td>A/5 21171</td>\n",
       "      <td>7.2500</td>\n",
       "      <td>NaN</td>\n",
       "      <td>S</td>\n",
       "    </tr>\n",
       "    <tr>\n",
       "      <th>2</th>\n",
       "      <td>1</td>\n",
       "      <td>1</td>\n",
       "      <td>Cumings, Mrs. John Bradley (Florence Briggs Th...</td>\n",
       "      <td>female</td>\n",
       "      <td>38.0</td>\n",
       "      <td>1</td>\n",
       "      <td>0</td>\n",
       "      <td>PC 17599</td>\n",
       "      <td>71.2833</td>\n",
       "      <td>C85</td>\n",
       "      <td>C</td>\n",
       "    </tr>\n",
       "    <tr>\n",
       "      <th>3</th>\n",
       "      <td>1</td>\n",
       "      <td>3</td>\n",
       "      <td>Heikkinen, Miss. Laina</td>\n",
       "      <td>female</td>\n",
       "      <td>26.0</td>\n",
       "      <td>0</td>\n",
       "      <td>0</td>\n",
       "      <td>STON/O2. 3101282</td>\n",
       "      <td>7.9250</td>\n",
       "      <td>NaN</td>\n",
       "      <td>S</td>\n",
       "    </tr>\n",
       "    <tr>\n",
       "      <th>4</th>\n",
       "      <td>1</td>\n",
       "      <td>1</td>\n",
       "      <td>Futrelle, Mrs. Jacques Heath (Lily May Peel)</td>\n",
       "      <td>female</td>\n",
       "      <td>35.0</td>\n",
       "      <td>1</td>\n",
       "      <td>0</td>\n",
       "      <td>113803</td>\n",
       "      <td>53.1000</td>\n",
       "      <td>C123</td>\n",
       "      <td>S</td>\n",
       "    </tr>\n",
       "    <tr>\n",
       "      <th>5</th>\n",
       "      <td>0</td>\n",
       "      <td>3</td>\n",
       "      <td>Allen, Mr. William Henry</td>\n",
       "      <td>male</td>\n",
       "      <td>35.0</td>\n",
       "      <td>0</td>\n",
       "      <td>0</td>\n",
       "      <td>373450</td>\n",
       "      <td>8.0500</td>\n",
       "      <td>NaN</td>\n",
       "      <td>S</td>\n",
       "    </tr>\n",
       "  </tbody>\n",
       "</table>\n",
       "</div>"
      ],
      "text/plain": [
       "             Survived  Pclass  \\\n",
       "PassengerId                     \n",
       "1                   0       3   \n",
       "2                   1       1   \n",
       "3                   1       3   \n",
       "4                   1       1   \n",
       "5                   0       3   \n",
       "\n",
       "                                                          Name     Sex   Age  \\\n",
       "PassengerId                                                                    \n",
       "1                                      Braund, Mr. Owen Harris    male  22.0   \n",
       "2            Cumings, Mrs. John Bradley (Florence Briggs Th...  female  38.0   \n",
       "3                                       Heikkinen, Miss. Laina  female  26.0   \n",
       "4                 Futrelle, Mrs. Jacques Heath (Lily May Peel)  female  35.0   \n",
       "5                                     Allen, Mr. William Henry    male  35.0   \n",
       "\n",
       "             SibSp  Parch            Ticket     Fare Cabin Embarked  \n",
       "PassengerId                                                          \n",
       "1                1      0         A/5 21171   7.2500   NaN        S  \n",
       "2                1      0          PC 17599  71.2833   C85        C  \n",
       "3                0      0  STON/O2. 3101282   7.9250   NaN        S  \n",
       "4                1      0            113803  53.1000  C123        S  \n",
       "5                0      0            373450   8.0500   NaN        S  "
      ]
     },
     "execution_count": 4,
     "metadata": {},
     "output_type": "execute_result"
    }
   ],
   "source": [
    "df.head()"
   ]
  },
  {
   "cell_type": "code",
   "execution_count": 5,
   "id": "7c6a0713",
   "metadata": {},
   "outputs": [
    {
     "data": {
      "text/html": [
       "<div>\n",
       "<style scoped>\n",
       "    .dataframe tbody tr th:only-of-type {\n",
       "        vertical-align: middle;\n",
       "    }\n",
       "\n",
       "    .dataframe tbody tr th {\n",
       "        vertical-align: top;\n",
       "    }\n",
       "\n",
       "    .dataframe thead th {\n",
       "        text-align: right;\n",
       "    }\n",
       "</style>\n",
       "<table border=\"1\" class=\"dataframe\">\n",
       "  <thead>\n",
       "    <tr style=\"text-align: right;\">\n",
       "      <th></th>\n",
       "      <th>count</th>\n",
       "      <th>unique</th>\n",
       "      <th>top</th>\n",
       "      <th>freq</th>\n",
       "      <th>mean</th>\n",
       "      <th>std</th>\n",
       "      <th>min</th>\n",
       "      <th>25%</th>\n",
       "      <th>50%</th>\n",
       "      <th>75%</th>\n",
       "      <th>max</th>\n",
       "    </tr>\n",
       "  </thead>\n",
       "  <tbody>\n",
       "    <tr>\n",
       "      <th>Survived</th>\n",
       "      <td>891.0</td>\n",
       "      <td>NaN</td>\n",
       "      <td>NaN</td>\n",
       "      <td>NaN</td>\n",
       "      <td>0.383838</td>\n",
       "      <td>0.486592</td>\n",
       "      <td>0.0</td>\n",
       "      <td>0.0</td>\n",
       "      <td>0.0</td>\n",
       "      <td>1.0</td>\n",
       "      <td>1.0</td>\n",
       "    </tr>\n",
       "    <tr>\n",
       "      <th>Pclass</th>\n",
       "      <td>891.0</td>\n",
       "      <td>NaN</td>\n",
       "      <td>NaN</td>\n",
       "      <td>NaN</td>\n",
       "      <td>2.308642</td>\n",
       "      <td>0.836071</td>\n",
       "      <td>1.0</td>\n",
       "      <td>2.0</td>\n",
       "      <td>3.0</td>\n",
       "      <td>3.0</td>\n",
       "      <td>3.0</td>\n",
       "    </tr>\n",
       "    <tr>\n",
       "      <th>Name</th>\n",
       "      <td>891</td>\n",
       "      <td>891</td>\n",
       "      <td>Braund, Mr. Owen Harris</td>\n",
       "      <td>1</td>\n",
       "      <td>NaN</td>\n",
       "      <td>NaN</td>\n",
       "      <td>NaN</td>\n",
       "      <td>NaN</td>\n",
       "      <td>NaN</td>\n",
       "      <td>NaN</td>\n",
       "      <td>NaN</td>\n",
       "    </tr>\n",
       "    <tr>\n",
       "      <th>Sex</th>\n",
       "      <td>891</td>\n",
       "      <td>2</td>\n",
       "      <td>male</td>\n",
       "      <td>577</td>\n",
       "      <td>NaN</td>\n",
       "      <td>NaN</td>\n",
       "      <td>NaN</td>\n",
       "      <td>NaN</td>\n",
       "      <td>NaN</td>\n",
       "      <td>NaN</td>\n",
       "      <td>NaN</td>\n",
       "    </tr>\n",
       "    <tr>\n",
       "      <th>Age</th>\n",
       "      <td>714.0</td>\n",
       "      <td>NaN</td>\n",
       "      <td>NaN</td>\n",
       "      <td>NaN</td>\n",
       "      <td>29.699118</td>\n",
       "      <td>14.526497</td>\n",
       "      <td>0.42</td>\n",
       "      <td>20.125</td>\n",
       "      <td>28.0</td>\n",
       "      <td>38.0</td>\n",
       "      <td>80.0</td>\n",
       "    </tr>\n",
       "    <tr>\n",
       "      <th>SibSp</th>\n",
       "      <td>891.0</td>\n",
       "      <td>NaN</td>\n",
       "      <td>NaN</td>\n",
       "      <td>NaN</td>\n",
       "      <td>0.523008</td>\n",
       "      <td>1.102743</td>\n",
       "      <td>0.0</td>\n",
       "      <td>0.0</td>\n",
       "      <td>0.0</td>\n",
       "      <td>1.0</td>\n",
       "      <td>8.0</td>\n",
       "    </tr>\n",
       "    <tr>\n",
       "      <th>Parch</th>\n",
       "      <td>891.0</td>\n",
       "      <td>NaN</td>\n",
       "      <td>NaN</td>\n",
       "      <td>NaN</td>\n",
       "      <td>0.381594</td>\n",
       "      <td>0.806057</td>\n",
       "      <td>0.0</td>\n",
       "      <td>0.0</td>\n",
       "      <td>0.0</td>\n",
       "      <td>0.0</td>\n",
       "      <td>6.0</td>\n",
       "    </tr>\n",
       "    <tr>\n",
       "      <th>Ticket</th>\n",
       "      <td>891</td>\n",
       "      <td>681</td>\n",
       "      <td>347082</td>\n",
       "      <td>7</td>\n",
       "      <td>NaN</td>\n",
       "      <td>NaN</td>\n",
       "      <td>NaN</td>\n",
       "      <td>NaN</td>\n",
       "      <td>NaN</td>\n",
       "      <td>NaN</td>\n",
       "      <td>NaN</td>\n",
       "    </tr>\n",
       "    <tr>\n",
       "      <th>Fare</th>\n",
       "      <td>891.0</td>\n",
       "      <td>NaN</td>\n",
       "      <td>NaN</td>\n",
       "      <td>NaN</td>\n",
       "      <td>32.204208</td>\n",
       "      <td>49.693429</td>\n",
       "      <td>0.0</td>\n",
       "      <td>7.9104</td>\n",
       "      <td>14.4542</td>\n",
       "      <td>31.0</td>\n",
       "      <td>512.3292</td>\n",
       "    </tr>\n",
       "    <tr>\n",
       "      <th>Cabin</th>\n",
       "      <td>204</td>\n",
       "      <td>147</td>\n",
       "      <td>B96 B98</td>\n",
       "      <td>4</td>\n",
       "      <td>NaN</td>\n",
       "      <td>NaN</td>\n",
       "      <td>NaN</td>\n",
       "      <td>NaN</td>\n",
       "      <td>NaN</td>\n",
       "      <td>NaN</td>\n",
       "      <td>NaN</td>\n",
       "    </tr>\n",
       "    <tr>\n",
       "      <th>Embarked</th>\n",
       "      <td>889</td>\n",
       "      <td>3</td>\n",
       "      <td>S</td>\n",
       "      <td>644</td>\n",
       "      <td>NaN</td>\n",
       "      <td>NaN</td>\n",
       "      <td>NaN</td>\n",
       "      <td>NaN</td>\n",
       "      <td>NaN</td>\n",
       "      <td>NaN</td>\n",
       "      <td>NaN</td>\n",
       "    </tr>\n",
       "  </tbody>\n",
       "</table>\n",
       "</div>"
      ],
      "text/plain": [
       "          count unique                      top freq       mean        std  \\\n",
       "Survived  891.0    NaN                      NaN  NaN   0.383838   0.486592   \n",
       "Pclass    891.0    NaN                      NaN  NaN   2.308642   0.836071   \n",
       "Name        891    891  Braund, Mr. Owen Harris    1        NaN        NaN   \n",
       "Sex         891      2                     male  577        NaN        NaN   \n",
       "Age       714.0    NaN                      NaN  NaN  29.699118  14.526497   \n",
       "SibSp     891.0    NaN                      NaN  NaN   0.523008   1.102743   \n",
       "Parch     891.0    NaN                      NaN  NaN   0.381594   0.806057   \n",
       "Ticket      891    681                   347082    7        NaN        NaN   \n",
       "Fare      891.0    NaN                      NaN  NaN  32.204208  49.693429   \n",
       "Cabin       204    147                  B96 B98    4        NaN        NaN   \n",
       "Embarked    889      3                        S  644        NaN        NaN   \n",
       "\n",
       "           min     25%      50%   75%       max  \n",
       "Survived   0.0     0.0      0.0   1.0       1.0  \n",
       "Pclass     1.0     2.0      3.0   3.0       3.0  \n",
       "Name       NaN     NaN      NaN   NaN       NaN  \n",
       "Sex        NaN     NaN      NaN   NaN       NaN  \n",
       "Age       0.42  20.125     28.0  38.0      80.0  \n",
       "SibSp      0.0     0.0      0.0   1.0       8.0  \n",
       "Parch      0.0     0.0      0.0   0.0       6.0  \n",
       "Ticket     NaN     NaN      NaN   NaN       NaN  \n",
       "Fare       0.0  7.9104  14.4542  31.0  512.3292  \n",
       "Cabin      NaN     NaN      NaN   NaN       NaN  \n",
       "Embarked   NaN     NaN      NaN   NaN       NaN  "
      ]
     },
     "execution_count": 5,
     "metadata": {},
     "output_type": "execute_result"
    }
   ],
   "source": [
    "df.describe(include='all').T"
   ]
  },
  {
   "cell_type": "code",
   "execution_count": 6,
   "id": "6d70e88d",
   "metadata": {},
   "outputs": [
    {
     "name": "stdout",
     "output_type": "stream",
     "text": [
      "<class 'pandas.core.frame.DataFrame'>\n",
      "Int64Index: 891 entries, 1 to 891\n",
      "Data columns (total 11 columns):\n",
      " #   Column    Non-Null Count  Dtype  \n",
      "---  ------    --------------  -----  \n",
      " 0   Survived  891 non-null    int64  \n",
      " 1   Pclass    891 non-null    int64  \n",
      " 2   Name      891 non-null    object \n",
      " 3   Sex       891 non-null    object \n",
      " 4   Age       714 non-null    float64\n",
      " 5   SibSp     891 non-null    int64  \n",
      " 6   Parch     891 non-null    int64  \n",
      " 7   Ticket    891 non-null    object \n",
      " 8   Fare      891 non-null    float64\n",
      " 9   Cabin     204 non-null    object \n",
      " 10  Embarked  889 non-null    object \n",
      "dtypes: float64(2), int64(4), object(5)\n",
      "memory usage: 83.5+ KB\n"
     ]
    }
   ],
   "source": [
    "df.info()"
   ]
  },
  {
   "cell_type": "markdown",
   "id": "cd4e414f",
   "metadata": {},
   "source": [
    "### Observation: \n",
    "- we have 5 categorical futures (Name, Sex, Ticket, Cabin, Embarked)\n",
    "- (Cabin, Ticket, PassengerId) are unwanted columns "
   ]
  },
  {
   "cell_type": "code",
   "execution_count": 7,
   "id": "5168dc76",
   "metadata": {},
   "outputs": [
    {
     "data": {
      "text/plain": [
       "Survived      0\n",
       "Pclass        0\n",
       "Name          0\n",
       "Sex           0\n",
       "Age         177\n",
       "SibSp         0\n",
       "Parch         0\n",
       "Ticket        0\n",
       "Fare          0\n",
       "Cabin       687\n",
       "Embarked      2\n",
       "dtype: int64"
      ]
     },
     "execution_count": 7,
     "metadata": {},
     "output_type": "execute_result"
    }
   ],
   "source": [
    "# missing values \n",
    "df.isna().sum()"
   ]
  },
  {
   "cell_type": "markdown",
   "id": "55a1ea4b",
   "metadata": {},
   "source": [
    "### Observation: \n",
    "- drop \"Cabin\" column as there are many nulls\n",
    "- drop \"Embarked\" 2 rows\n",
    "- Deal with age Missing values"
   ]
  },
  {
   "cell_type": "code",
   "execution_count": 8,
   "id": "3f91ee20",
   "metadata": {},
   "outputs": [],
   "source": [
    "df.drop(['Cabin', 'Ticket'], axis=1, inplace=True)\n",
    "df_test.drop(['Cabin', 'Ticket'], axis=1, inplace=True)"
   ]
  },
  {
   "cell_type": "markdown",
   "id": "bb55a813",
   "metadata": {},
   "source": [
    "## Categorical Data:"
   ]
  },
  {
   "cell_type": "markdown",
   "id": "d625c17c",
   "metadata": {},
   "source": [
    "### Name"
   ]
  },
  {
   "cell_type": "code",
   "execution_count": 9,
   "id": "83698845",
   "metadata": {},
   "outputs": [
    {
     "data": {
      "text/html": [
       "<div>\n",
       "<style scoped>\n",
       "    .dataframe tbody tr th:only-of-type {\n",
       "        vertical-align: middle;\n",
       "    }\n",
       "\n",
       "    .dataframe tbody tr th {\n",
       "        vertical-align: top;\n",
       "    }\n",
       "\n",
       "    .dataframe thead th {\n",
       "        text-align: right;\n",
       "    }\n",
       "</style>\n",
       "<table border=\"1\" class=\"dataframe\">\n",
       "  <thead>\n",
       "    <tr style=\"text-align: right;\">\n",
       "      <th></th>\n",
       "      <th>Name</th>\n",
       "    </tr>\n",
       "    <tr>\n",
       "      <th>PassengerId</th>\n",
       "      <th></th>\n",
       "    </tr>\n",
       "  </thead>\n",
       "  <tbody>\n",
       "    <tr>\n",
       "      <th>1</th>\n",
       "      <td>Braund, Mr. Owen Harris</td>\n",
       "    </tr>\n",
       "    <tr>\n",
       "      <th>2</th>\n",
       "      <td>Cumings, Mrs. John Bradley (Florence Briggs Th...</td>\n",
       "    </tr>\n",
       "    <tr>\n",
       "      <th>3</th>\n",
       "      <td>Heikkinen, Miss. Laina</td>\n",
       "    </tr>\n",
       "    <tr>\n",
       "      <th>4</th>\n",
       "      <td>Futrelle, Mrs. Jacques Heath (Lily May Peel)</td>\n",
       "    </tr>\n",
       "    <tr>\n",
       "      <th>5</th>\n",
       "      <td>Allen, Mr. William Henry</td>\n",
       "    </tr>\n",
       "  </tbody>\n",
       "</table>\n",
       "</div>"
      ],
      "text/plain": [
       "                                                          Name\n",
       "PassengerId                                                   \n",
       "1                                      Braund, Mr. Owen Harris\n",
       "2            Cumings, Mrs. John Bradley (Florence Briggs Th...\n",
       "3                                       Heikkinen, Miss. Laina\n",
       "4                 Futrelle, Mrs. Jacques Heath (Lily May Peel)\n",
       "5                                     Allen, Mr. William Henry"
      ]
     },
     "execution_count": 9,
     "metadata": {},
     "output_type": "execute_result"
    }
   ],
   "source": [
    "df[['Name']].head()"
   ]
  },
  {
   "cell_type": "markdown",
   "id": "e68b57ce",
   "metadata": {},
   "source": [
    "we need to extract Titles from Names "
   ]
  },
  {
   "cell_type": "code",
   "execution_count": 10,
   "id": "7865b18b",
   "metadata": {},
   "outputs": [
    {
     "name": "stdout",
     "output_type": "stream",
     "text": [
      "Mr          517\n",
      "Miss        182\n",
      "Mrs         125\n",
      "Master       40\n",
      "Dr            7\n",
      "Rev           6\n",
      "Mlle          2\n",
      "Major         2\n",
      "Col           2\n",
      "Countess      1\n",
      "Capt          1\n",
      "Ms            1\n",
      "Sir           1\n",
      "Lady          1\n",
      "Mme           1\n",
      "Don           1\n",
      "Jonkheer      1\n",
      "Name: Title, dtype: int64\n",
      "-------------------------\n",
      "Mr        240\n",
      "Miss       78\n",
      "Mrs        72\n",
      "Master     21\n",
      "Col         2\n",
      "Rev         2\n",
      "Ms          1\n",
      "Dr          1\n",
      "Dona        1\n",
      "Name: Title, dtype: int64\n"
     ]
    }
   ],
   "source": [
    "pattern = '\\s(\\w+)\\.'\n",
    "df['Title'] = df['Name'].str.extract(\n",
    "                    pattern, \n",
    "                    expand=False)\n",
    "\n",
    "df_test['Title'] = df_test['Name'].str.extract(\n",
    "                    pattern, \n",
    "                    expand=False)\n",
    "\n",
    "print(df['Title'].value_counts())\n",
    "print('-------------------------')\n",
    "print(df_test['Title'].value_counts())"
   ]
  },
  {
   "cell_type": "code",
   "execution_count": 11,
   "id": "0fcd11d7",
   "metadata": {},
   "outputs": [],
   "source": [
    "df.drop([ 'Name'], axis=1, inplace=True)\n",
    "df_test.drop(['Name'], axis=1, inplace=True)"
   ]
  },
  {
   "cell_type": "code",
   "execution_count": 12,
   "id": "6244645e",
   "metadata": {},
   "outputs": [
    {
     "name": "stderr",
     "output_type": "stream",
     "text": [
      "C:\\Users\\Andrew\\AppData\\Local\\Temp/ipykernel_20940/800893735.py:7: SettingWithCopyWarning: \n",
      "A value is trying to be set on a copy of a slice from a DataFrame\n",
      "\n",
      "See the caveats in the documentation: https://pandas.pydata.org/pandas-docs/stable/user_guide/indexing.html#returning-a-view-versus-a-copy\n",
      "  df.Title[df['Title'].isin(others)] = 'other'\n",
      "C:\\Users\\Andrew\\AppData\\Local\\Temp/ipykernel_20940/800893735.py:8: SettingWithCopyWarning: \n",
      "A value is trying to be set on a copy of a slice from a DataFrame\n",
      "\n",
      "See the caveats in the documentation: https://pandas.pydata.org/pandas-docs/stable/user_guide/indexing.html#returning-a-view-versus-a-copy\n",
      "  df_test.Title[df_test['Title'].isin(others)] = 'other'\n"
     ]
    }
   ],
   "source": [
    "# Change Title of low frequencies with \"other\"\n",
    "\n",
    "m = df['Title'].map(df['Title'].value_counts(normalize=True).lt(0.005))\n",
    "others =list(df[m].Title ) \n",
    "\n",
    "\n",
    "df.Title[df['Title'].isin(others)] = 'other'\n",
    "df_test.Title[df_test['Title'].isin(others)] = 'other'"
   ]
  },
  {
   "cell_type": "code",
   "execution_count": 13,
   "id": "99427314",
   "metadata": {},
   "outputs": [
    {
     "data": {
      "image/png": "[encoded data removed]",
      "text/plain": [
       "<Figure size 432x288 with 1 Axes>"
      ]
     },
     "metadata": {
      "needs_background": "light"
     },
     "output_type": "display_data"
    }
   ],
   "source": [
    "plt.figure()\n",
    "sns.countplot(data=df,x='Title')\n",
    "plt.title('Title')\n",
    "plt.show()"
   ]
  },
  {
   "cell_type": "markdown",
   "id": "0414254e",
   "metadata": {},
   "source": [
    "### Sex"
   ]
  },
  {
   "cell_type": "code",
   "execution_count": 14,
   "id": "ceae1337",
   "metadata": {},
   "outputs": [
    {
     "data": {
      "image/png": "[encoded data removed]",
      "text/plain": [
       "<Figure size 432x288 with 1 Axes>"
      ]
     },
     "metadata": {
      "needs_background": "light"
     },
     "output_type": "display_data"
    }
   ],
   "source": [
    "plt.figure()\n",
    "sns.countplot(data=df,x='Sex')\n",
    "plt.title('Male v/s Female')\n",
    "plt.show()"
   ]
  },
  {
   "cell_type": "code",
   "execution_count": 15,
   "id": "ca096ddd",
   "metadata": {},
   "outputs": [
    {
     "data": {
      "text/plain": [
       "male      577\n",
       "female    314\n",
       "Name: Sex, dtype: int64"
      ]
     },
     "execution_count": 15,
     "metadata": {},
     "output_type": "execute_result"
    }
   ],
   "source": [
    "df['Sex'].value_counts()"
   ]
  },
  {
   "cell_type": "markdown",
   "id": "edda7b5c",
   "metadata": {},
   "source": [
    "### Embarked"
   ]
  },
  {
   "cell_type": "code",
   "execution_count": 16,
   "id": "b99b6851",
   "metadata": {},
   "outputs": [
    {
     "data": {
      "image/png": "[encoded data removed]",
      "text/plain": [
       "<Figure size 432x288 with 1 Axes>"
      ]
     },
     "metadata": {
      "needs_background": "light"
     },
     "output_type": "display_data"
    }
   ],
   "source": [
    "plt.figure()\n",
    "sns.countplot(data=df,x='Embarked')\n",
    "plt.title('Embarked')\n",
    "plt.show()"
   ]
  },
  {
   "cell_type": "code",
   "execution_count": 17,
   "id": "c400801e",
   "metadata": {},
   "outputs": [
    {
     "data": {
      "text/plain": [
       "S    644\n",
       "C    168\n",
       "Q     77\n",
       "Name: Embarked, dtype: int64"
      ]
     },
     "execution_count": 17,
     "metadata": {},
     "output_type": "execute_result"
    }
   ],
   "source": [
    "df['Embarked'].value_counts()"
   ]
  },
  {
   "cell_type": "code",
   "execution_count": 18,
   "id": "9cbb8a57",
   "metadata": {},
   "outputs": [
    {
     "name": "stdout",
     "output_type": "stream",
     "text": [
      "<class 'pandas.core.frame.DataFrame'>\n",
      "Int64Index: 891 entries, 1 to 891\n",
      "Data columns (total 9 columns):\n",
      " #   Column    Non-Null Count  Dtype  \n",
      "---  ------    --------------  -----  \n",
      " 0   Survived  891 non-null    int64  \n",
      " 1   Pclass    891 non-null    int64  \n",
      " 2   Sex       891 non-null    object \n",
      " 3   Age       714 non-null    float64\n",
      " 4   SibSp     891 non-null    int64  \n",
      " 5   Parch     891 non-null    int64  \n",
      " 6   Fare      891 non-null    float64\n",
      " 7   Embarked  889 non-null    object \n",
      " 8   Title     891 non-null    object \n",
      "dtypes: float64(2), int64(4), object(3)\n",
      "memory usage: 101.9+ KB\n"
     ]
    }
   ],
   "source": [
    "df.info()"
   ]
  },
  {
   "cell_type": "code",
   "execution_count": 19,
   "id": "09548133",
   "metadata": {},
   "outputs": [],
   "source": [
    "# OneHotEncoding\n",
    "cat_cols = ['Title', 'Sex', 'Embarked']\n",
    "train = pd.get_dummies(df[cat_cols])  \n",
    "test = pd.get_dummies(df_test[cat_cols])    \n",
    "OH_cols_train, OH_cols_test = train.align(test, join='inner', axis=1)  # inner join\n",
    "\n",
    "\n",
    "# Add one-hot encoded columns to numerical features\n",
    "df = pd.concat([df, OH_cols_train], axis=1)\n",
    "df_test = pd.concat([df_test, OH_cols_test], axis=1)"
   ]
  },
  {
   "cell_type": "code",
   "execution_count": 20,
   "id": "fbf6c670",
   "metadata": {},
   "outputs": [
    {
     "name": "stdout",
     "output_type": "stream",
     "text": [
      "(891, 21)\n",
      "-------------------------\n",
      "(418, 20)\n"
     ]
    }
   ],
   "source": [
    "print(df.shape)\n",
    "print('-------------------------')\n",
    "print(df_test.shape)"
   ]
  },
  {
   "cell_type": "code",
   "execution_count": 21,
   "id": "d1ee940a",
   "metadata": {},
   "outputs": [
    {
     "data": {
      "text/html": [
       "<div>\n",
       "<style scoped>\n",
       "    .dataframe tbody tr th:only-of-type {\n",
       "        vertical-align: middle;\n",
       "    }\n",
       "\n",
       "    .dataframe tbody tr th {\n",
       "        vertical-align: top;\n",
       "    }\n",
       "\n",
       "    .dataframe thead th {\n",
       "        text-align: right;\n",
       "    }\n",
       "</style>\n",
       "<table border=\"1\" class=\"dataframe\">\n",
       "  <thead>\n",
       "    <tr style=\"text-align: right;\">\n",
       "      <th></th>\n",
       "      <th>Survived</th>\n",
       "      <th>Pclass</th>\n",
       "      <th>Sex</th>\n",
       "      <th>Age</th>\n",
       "      <th>SibSp</th>\n",
       "      <th>Parch</th>\n",
       "      <th>Fare</th>\n",
       "      <th>Embarked</th>\n",
       "      <th>Title</th>\n",
       "      <th>Title_Dr</th>\n",
       "      <th>...</th>\n",
       "      <th>Title_Miss</th>\n",
       "      <th>Title_Mr</th>\n",
       "      <th>Title_Mrs</th>\n",
       "      <th>Title_Rev</th>\n",
       "      <th>Title_other</th>\n",
       "      <th>Sex_female</th>\n",
       "      <th>Sex_male</th>\n",
       "      <th>Embarked_C</th>\n",
       "      <th>Embarked_Q</th>\n",
       "      <th>Embarked_S</th>\n",
       "    </tr>\n",
       "    <tr>\n",
       "      <th>PassengerId</th>\n",
       "      <th></th>\n",
       "      <th></th>\n",
       "      <th></th>\n",
       "      <th></th>\n",
       "      <th></th>\n",
       "      <th></th>\n",
       "      <th></th>\n",
       "      <th></th>\n",
       "      <th></th>\n",
       "      <th></th>\n",
       "      <th></th>\n",
       "      <th></th>\n",
       "      <th></th>\n",
       "      <th></th>\n",
       "      <th></th>\n",
       "      <th></th>\n",
       "      <th></th>\n",
       "      <th></th>\n",
       "      <th></th>\n",
       "      <th></th>\n",
       "      <th></th>\n",
       "    </tr>\n",
       "  </thead>\n",
       "  <tbody>\n",
       "    <tr>\n",
       "      <th>1</th>\n",
       "      <td>0</td>\n",
       "      <td>3</td>\n",
       "      <td>male</td>\n",
       "      <td>22.0</td>\n",
       "      <td>1</td>\n",
       "      <td>0</td>\n",
       "      <td>7.2500</td>\n",
       "      <td>S</td>\n",
       "      <td>Mr</td>\n",
       "      <td>0</td>\n",
       "      <td>...</td>\n",
       "      <td>0</td>\n",
       "      <td>1</td>\n",
       "      <td>0</td>\n",
       "      <td>0</td>\n",
       "      <td>0</td>\n",
       "      <td>0</td>\n",
       "      <td>1</td>\n",
       "      <td>0</td>\n",
       "      <td>0</td>\n",
       "      <td>1</td>\n",
       "    </tr>\n",
       "    <tr>\n",
       "      <th>2</th>\n",
       "      <td>1</td>\n",
       "      <td>1</td>\n",
       "      <td>female</td>\n",
       "      <td>38.0</td>\n",
       "      <td>1</td>\n",
       "      <td>0</td>\n",
       "      <td>71.2833</td>\n",
       "      <td>C</td>\n",
       "      <td>Mrs</td>\n",
       "      <td>0</td>\n",
       "      <td>...</td>\n",
       "      <td>0</td>\n",
       "      <td>0</td>\n",
       "      <td>1</td>\n",
       "      <td>0</td>\n",
       "      <td>0</td>\n",
       "      <td>1</td>\n",
       "      <td>0</td>\n",
       "      <td>1</td>\n",
       "      <td>0</td>\n",
       "      <td>0</td>\n",
       "    </tr>\n",
       "    <tr>\n",
       "      <th>3</th>\n",
       "      <td>1</td>\n",
       "      <td>3</td>\n",
       "      <td>female</td>\n",
       "      <td>26.0</td>\n",
       "      <td>0</td>\n",
       "      <td>0</td>\n",
       "      <td>7.9250</td>\n",
       "      <td>S</td>\n",
       "      <td>Miss</td>\n",
       "      <td>0</td>\n",
       "      <td>...</td>\n",
       "      <td>1</td>\n",
       "      <td>0</td>\n",
       "      <td>0</td>\n",
       "      <td>0</td>\n",
       "      <td>0</td>\n",
       "      <td>1</td>\n",
       "      <td>0</td>\n",
       "      <td>0</td>\n",
       "      <td>0</td>\n",
       "      <td>1</td>\n",
       "    </tr>\n",
       "    <tr>\n",
       "      <th>4</th>\n",
       "      <td>1</td>\n",
       "      <td>1</td>\n",
       "      <td>female</td>\n",
       "      <td>35.0</td>\n",
       "      <td>1</td>\n",
       "      <td>0</td>\n",
       "      <td>53.1000</td>\n",
       "      <td>S</td>\n",
       "      <td>Mrs</td>\n",
       "      <td>0</td>\n",
       "      <td>...</td>\n",
       "      <td>0</td>\n",
       "      <td>0</td>\n",
       "      <td>1</td>\n",
       "      <td>0</td>\n",
       "      <td>0</td>\n",
       "      <td>1</td>\n",
       "      <td>0</td>\n",
       "      <td>0</td>\n",
       "      <td>0</td>\n",
       "      <td>1</td>\n",
       "    </tr>\n",
       "    <tr>\n",
       "      <th>5</th>\n",
       "      <td>0</td>\n",
       "      <td>3</td>\n",
       "      <td>male</td>\n",
       "      <td>35.0</td>\n",
       "      <td>0</td>\n",
       "      <td>0</td>\n",
       "      <td>8.0500</td>\n",
       "      <td>S</td>\n",
       "      <td>Mr</td>\n",
       "      <td>0</td>\n",
       "      <td>...</td>\n",
       "      <td>0</td>\n",
       "      <td>1</td>\n",
       "      <td>0</td>\n",
       "      <td>0</td>\n",
       "      <td>0</td>\n",
       "      <td>0</td>\n",
       "      <td>1</td>\n",
       "      <td>0</td>\n",
       "      <td>0</td>\n",
       "      <td>1</td>\n",
       "    </tr>\n",
       "  </tbody>\n",
       "</table>\n",
       "<p>5 rows × 21 columns</p>\n",
       "</div>"
      ],
      "text/plain": [
       "             Survived  Pclass     Sex   Age  SibSp  Parch     Fare Embarked  \\\n",
       "PassengerId                                                                   \n",
       "1                   0       3    male  22.0      1      0   7.2500        S   \n",
       "2                   1       1  female  38.0      1      0  71.2833        C   \n",
       "3                   1       3  female  26.0      0      0   7.9250        S   \n",
       "4                   1       1  female  35.0      1      0  53.1000        S   \n",
       "5                   0       3    male  35.0      0      0   8.0500        S   \n",
       "\n",
       "            Title  Title_Dr  ...  Title_Miss  Title_Mr  Title_Mrs  Title_Rev  \\\n",
       "PassengerId                  ...                                               \n",
       "1              Mr         0  ...           0         1          0          0   \n",
       "2             Mrs         0  ...           0         0          1          0   \n",
       "3            Miss         0  ...           1         0          0          0   \n",
       "4             Mrs         0  ...           0         0          1          0   \n",
       "5              Mr         0  ...           0         1          0          0   \n",
       "\n",
       "             Title_other  Sex_female  Sex_male  Embarked_C  Embarked_Q  \\\n",
       "PassengerId                                                              \n",
       "1                      0           0         1           0           0   \n",
       "2                      0           1         0           1           0   \n",
       "3                      0           1         0           0           0   \n",
       "4                      0           1         0           0           0   \n",
       "5                      0           0         1           0           0   \n",
       "\n",
       "             Embarked_S  \n",
       "PassengerId              \n",
       "1                     1  \n",
       "2                     0  \n",
       "3                     1  \n",
       "4                     1  \n",
       "5                     1  \n",
       "\n",
       "[5 rows x 21 columns]"
      ]
     },
     "execution_count": 21,
     "metadata": {},
     "output_type": "execute_result"
    }
   ],
   "source": [
    "df.head()"
   ]
  },
  {
   "cell_type": "markdown",
   "id": "2bfb1e4f",
   "metadata": {},
   "source": [
    "## Split Data:\n",
    "(Before filling missing values and removing the outliers)"
   ]
  },
  {
   "cell_type": "code",
   "execution_count": 22,
   "id": "0c15232b",
   "metadata": {},
   "outputs": [],
   "source": [
    "# Remove rows with missing target, separate target from predictors\n",
    "df.dropna(axis=0, subset=['Survived'], inplace=True)\n",
    "y = df.Survived              \n",
    "x = df.drop(['Survived'], axis=1)"
   ]
  },
  {
   "cell_type": "code",
   "execution_count": 23,
   "id": "c25ab67d",
   "metadata": {},
   "outputs": [],
   "source": [
    "# train test split\n",
    "from sklearn.model_selection import train_test_split\n",
    "X_t, X_v, y_t, y_v = train_test_split(x, y, test_size=0.3, random_state=0 , stratify=y)"
   ]
  },
  {
   "cell_type": "code",
   "execution_count": 24,
   "id": "a65b67bb",
   "metadata": {},
   "outputs": [
    {
     "name": "stdout",
     "output_type": "stream",
     "text": [
      "(891, 21)\n",
      "(623, 21)\n",
      "(268, 21)\n",
      "(418, 20)\n"
     ]
    }
   ],
   "source": [
    "df_train = pd.concat([X_t, y_t], axis=1)\n",
    "df_val = pd.concat([X_v, y_v], axis=1)\n",
    "\n",
    "print(df.shape)\n",
    "print(df_train.shape)\n",
    "print(df_val.shape)\n",
    "print(df_test.shape)"
   ]
  },
  {
   "cell_type": "markdown",
   "id": "7e19253c",
   "metadata": {},
   "source": [
    "## Numerical Data:"
   ]
  },
  {
   "cell_type": "code",
   "execution_count": 25,
   "id": "e7ad5919",
   "metadata": {},
   "outputs": [
    {
     "data": {
      "text/plain": [
       "Pclass            0\n",
       "Sex               0\n",
       "Age             127\n",
       "SibSp             0\n",
       "Parch             0\n",
       "Fare              0\n",
       "Embarked          2\n",
       "Title             0\n",
       "Title_Dr          0\n",
       "Title_Master      0\n",
       "Title_Miss        0\n",
       "Title_Mr          0\n",
       "Title_Mrs         0\n",
       "Title_Rev         0\n",
       "Title_other       0\n",
       "Sex_female        0\n",
       "Sex_male          0\n",
       "Embarked_C        0\n",
       "Embarked_Q        0\n",
       "Embarked_S        0\n",
       "Survived          0\n",
       "dtype: int64"
      ]
     },
     "execution_count": 25,
     "metadata": {},
     "output_type": "execute_result"
    }
   ],
   "source": [
    "# missing values \n",
    "df_train.isna().sum()"
   ]
  },
  {
   "cell_type": "markdown",
   "id": "7906f671",
   "metadata": {},
   "source": [
    "## Age"
   ]
  },
  {
   "cell_type": "code",
   "execution_count": 26,
   "id": "8ae6e580",
   "metadata": {},
   "outputs": [
    {
     "name": "stdout",
     "output_type": "stream",
     "text": [
      "127\n",
      "50\n",
      "86\n"
     ]
    }
   ],
   "source": [
    "print(df_train.Age.isna().sum())\n",
    "print(df_val.Age.isna().sum())\n",
    "print(df_test.Age.isna().sum())"
   ]
  },
  {
   "cell_type": "code",
   "execution_count": 27,
   "id": "eb3f8739",
   "metadata": {},
   "outputs": [
    {
     "name": "stdout",
     "output_type": "stream",
     "text": [
      "0\n",
      "0\n",
      "0\n"
     ]
    }
   ],
   "source": [
    "# Replace missing ages with title avrage age\n",
    "\n",
    "A_Dict = df_train.groupby('Title').Age.agg(np.mean).to_dict()\n",
    "\n",
    "df_train.Age = np.where(df_train.Age.isnull(), df_train['Title'].map(A_Dict), df_train.Age)\n",
    "df_val.Age = np.where(df_val.Age.isnull(), df_val['Title'].map(A_Dict), df_val.Age)\n",
    "df_test.Age = np.where(df_test.Age.isnull(), df_test['Title'].map(A_Dict), df_test.Age)\n",
    "\n",
    "print(df_train.Age.isna().sum())\n",
    "print(df_val.Age.isna().sum())\n",
    "print(df_test.Age.isna().sum())"
   ]
  },
  {
   "cell_type": "code",
   "execution_count": 28,
   "id": "b3a1816a",
   "metadata": {},
   "outputs": [
    {
     "data": {
      "text/plain": [
       "<AxesSubplot:>"
      ]
     },
     "execution_count": 28,
     "metadata": {},
     "output_type": "execute_result"
    },
    {
     "data": {
      "image/png": "[encoded data removed]",
      "text/plain": [
       "<Figure size 1080x432 with 2 Axes>"
      ]
     },
     "metadata": {
      "needs_background": "light"
     },
     "output_type": "display_data"
    }
   ],
   "source": [
    "plt.figure(figsize=(15,6))\n",
    "sns.heatmap(np.abs(df_train.corr()), annot=True)"
   ]
  },
  {
   "cell_type": "code",
   "execution_count": 29,
   "id": "b7b009bf",
   "metadata": {},
   "outputs": [
    {
     "data": {
      "image/png": "[encoded data removed]",
      "text/plain": [
       "<Figure size 720x720 with 6 Axes>"
      ]
     },
     "metadata": {
      "needs_background": "light"
     },
     "output_type": "display_data"
    }
   ],
   "source": [
    "df_train[['Pclass','Age','SibSp','Parch','Fare','Survived']].hist(figsize=(10,10));"
   ]
  },
  {
   "cell_type": "code",
   "execution_count": 30,
   "id": "eb66365c",
   "metadata": {},
   "outputs": [
    {
     "name": "stderr",
     "output_type": "stream",
     "text": [
      "C:\\Users\\Andrew\\AppData\\Local\\Temp/ipykernel_20940/380511336.py:6: FutureWarning: Automatic reindexing on DataFrame vs Series comparisons is deprecated and will raise ValueError in a future version.  Do `left, right = left.align(right, axis=1, copy=False)` before e.g. `left == right`\n",
      "  df_train = df_train[~ ((df_train < (Q1 - 1.5 * IQR)) \\\n",
      "C:\\Users\\Andrew\\AppData\\Local\\Temp/ipykernel_20940/380511336.py:7: FutureWarning: Automatic reindexing on DataFrame vs Series comparisons is deprecated and will raise ValueError in a future version.  Do `left, right = left.align(right, axis=1, copy=False)` before e.g. `left == right`\n",
      "  | (df_train > (Q3 + 1.5 * IQR))).any(axis=1)]\n",
      "C:\\Users\\Andrew\\AppData\\Local\\Temp/ipykernel_20940/380511336.py:9: FutureWarning: Automatic reindexing on DataFrame vs Series comparisons is deprecated and will raise ValueError in a future version.  Do `left, right = left.align(right, axis=1, copy=False)` before e.g. `left == right`\n",
      "  df_val = df_val[~ ((df_val < (Q1 - 1.5 * IQR)) \\\n",
      "C:\\Users\\Andrew\\AppData\\Local\\Temp/ipykernel_20940/380511336.py:10: FutureWarning: Automatic reindexing on DataFrame vs Series comparisons is deprecated and will raise ValueError in a future version.  Do `left, right = left.align(right, axis=1, copy=False)` before e.g. `left == right`\n",
      "  | (df_val > (Q3 + 1.5 * IQR))).any(axis=1)]\n"
     ]
    },
    {
     "data": {
      "image/png": "[encoded data removed]",
      "text/plain": [
       "<Figure size 720x720 with 6 Axes>"
      ]
     },
     "metadata": {
      "needs_background": "light"
     },
     "output_type": "display_data"
    }
   ],
   "source": [
    "# Remove outliers: \n",
    "Q1 = df.quantile(0.05)\n",
    "Q3 = df.quantile(0.95)\n",
    "IQR = Q3 - Q1\n",
    "\n",
    "df_train = df_train[~ ((df_train < (Q1 - 1.5 * IQR)) \\\n",
    "                                     | (df_train > (Q3 + 1.5 * IQR))).any(axis=1)]\n",
    "\n",
    "df_val = df_val[~ ((df_val < (Q1 - 1.5 * IQR)) \\\n",
    "                                     | (df_val > (Q3 + 1.5 * IQR))).any(axis=1)]\n",
    "\n",
    "df_train[['Pclass','Age','SibSp','Parch','Fare','Survived']].hist(figsize=(10,10));"
   ]
  },
  {
   "cell_type": "code",
   "execution_count": 31,
   "id": "008844a6",
   "metadata": {},
   "outputs": [
    {
     "name": "stdout",
     "output_type": "stream",
     "text": [
      "(565, 21)\n",
      "-------------------------\n",
      "(249, 21)\n",
      "-------------------------\n",
      "(418, 20)\n"
     ]
    }
   ],
   "source": [
    "print(df_train.shape)\n",
    "print('-------------------------')\n",
    "print(df_val.shape)\n",
    "print('-------------------------')\n",
    "print(df_test.shape)"
   ]
  },
  {
   "cell_type": "code",
   "execution_count": 32,
   "id": "fd73b24e",
   "metadata": {},
   "outputs": [
    {
     "data": {
      "text/html": [
       "<div>\n",
       "<style scoped>\n",
       "    .dataframe tbody tr th:only-of-type {\n",
       "        vertical-align: middle;\n",
       "    }\n",
       "\n",
       "    .dataframe tbody tr th {\n",
       "        vertical-align: top;\n",
       "    }\n",
       "\n",
       "    .dataframe thead th {\n",
       "        text-align: right;\n",
       "    }\n",
       "</style>\n",
       "<table border=\"1\" class=\"dataframe\">\n",
       "  <thead>\n",
       "    <tr style=\"text-align: right;\">\n",
       "      <th></th>\n",
       "      <th>Pclass</th>\n",
       "      <th>Age</th>\n",
       "      <th>SibSp</th>\n",
       "      <th>Parch</th>\n",
       "      <th>Fare</th>\n",
       "      <th>Title_Dr</th>\n",
       "      <th>Title_Master</th>\n",
       "      <th>Title_Miss</th>\n",
       "      <th>Title_Mr</th>\n",
       "      <th>Title_Mrs</th>\n",
       "      <th>Title_Rev</th>\n",
       "      <th>Title_other</th>\n",
       "      <th>Sex_female</th>\n",
       "      <th>Sex_male</th>\n",
       "      <th>Embarked_C</th>\n",
       "      <th>Embarked_Q</th>\n",
       "      <th>Embarked_S</th>\n",
       "      <th>Survived</th>\n",
       "    </tr>\n",
       "    <tr>\n",
       "      <th>PassengerId</th>\n",
       "      <th></th>\n",
       "      <th></th>\n",
       "      <th></th>\n",
       "      <th></th>\n",
       "      <th></th>\n",
       "      <th></th>\n",
       "      <th></th>\n",
       "      <th></th>\n",
       "      <th></th>\n",
       "      <th></th>\n",
       "      <th></th>\n",
       "      <th></th>\n",
       "      <th></th>\n",
       "      <th></th>\n",
       "      <th></th>\n",
       "      <th></th>\n",
       "      <th></th>\n",
       "      <th></th>\n",
       "    </tr>\n",
       "  </thead>\n",
       "  <tbody>\n",
       "    <tr>\n",
       "      <th>232</th>\n",
       "      <td>3</td>\n",
       "      <td>29.000000</td>\n",
       "      <td>0</td>\n",
       "      <td>0</td>\n",
       "      <td>7.7750</td>\n",
       "      <td>0</td>\n",
       "      <td>0</td>\n",
       "      <td>0</td>\n",
       "      <td>1</td>\n",
       "      <td>0</td>\n",
       "      <td>0</td>\n",
       "      <td>0</td>\n",
       "      <td>0</td>\n",
       "      <td>1</td>\n",
       "      <td>0</td>\n",
       "      <td>0</td>\n",
       "      <td>1</td>\n",
       "      <td>0</td>\n",
       "    </tr>\n",
       "    <tr>\n",
       "      <th>837</th>\n",
       "      <td>3</td>\n",
       "      <td>21.000000</td>\n",
       "      <td>0</td>\n",
       "      <td>0</td>\n",
       "      <td>8.6625</td>\n",
       "      <td>0</td>\n",
       "      <td>0</td>\n",
       "      <td>0</td>\n",
       "      <td>1</td>\n",
       "      <td>0</td>\n",
       "      <td>0</td>\n",
       "      <td>0</td>\n",
       "      <td>0</td>\n",
       "      <td>1</td>\n",
       "      <td>0</td>\n",
       "      <td>0</td>\n",
       "      <td>1</td>\n",
       "      <td>0</td>\n",
       "    </tr>\n",
       "    <tr>\n",
       "      <th>640</th>\n",
       "      <td>3</td>\n",
       "      <td>32.259259</td>\n",
       "      <td>1</td>\n",
       "      <td>0</td>\n",
       "      <td>16.1000</td>\n",
       "      <td>0</td>\n",
       "      <td>0</td>\n",
       "      <td>0</td>\n",
       "      <td>1</td>\n",
       "      <td>0</td>\n",
       "      <td>0</td>\n",
       "      <td>0</td>\n",
       "      <td>0</td>\n",
       "      <td>1</td>\n",
       "      <td>0</td>\n",
       "      <td>0</td>\n",
       "      <td>1</td>\n",
       "      <td>0</td>\n",
       "    </tr>\n",
       "    <tr>\n",
       "      <th>390</th>\n",
       "      <td>2</td>\n",
       "      <td>17.000000</td>\n",
       "      <td>0</td>\n",
       "      <td>0</td>\n",
       "      <td>12.0000</td>\n",
       "      <td>0</td>\n",
       "      <td>0</td>\n",
       "      <td>1</td>\n",
       "      <td>0</td>\n",
       "      <td>0</td>\n",
       "      <td>0</td>\n",
       "      <td>0</td>\n",
       "      <td>1</td>\n",
       "      <td>0</td>\n",
       "      <td>1</td>\n",
       "      <td>0</td>\n",
       "      <td>0</td>\n",
       "      <td>1</td>\n",
       "    </tr>\n",
       "    <tr>\n",
       "      <th>598</th>\n",
       "      <td>3</td>\n",
       "      <td>49.000000</td>\n",
       "      <td>0</td>\n",
       "      <td>0</td>\n",
       "      <td>0.0000</td>\n",
       "      <td>0</td>\n",
       "      <td>0</td>\n",
       "      <td>0</td>\n",
       "      <td>1</td>\n",
       "      <td>0</td>\n",
       "      <td>0</td>\n",
       "      <td>0</td>\n",
       "      <td>0</td>\n",
       "      <td>1</td>\n",
       "      <td>0</td>\n",
       "      <td>0</td>\n",
       "      <td>1</td>\n",
       "      <td>0</td>\n",
       "    </tr>\n",
       "  </tbody>\n",
       "</table>\n",
       "</div>"
      ],
      "text/plain": [
       "             Pclass        Age  SibSp  Parch     Fare  Title_Dr  Title_Master  \\\n",
       "PassengerId                                                                     \n",
       "232               3  29.000000      0      0   7.7750         0             0   \n",
       "837               3  21.000000      0      0   8.6625         0             0   \n",
       "640               3  32.259259      1      0  16.1000         0             0   \n",
       "390               2  17.000000      0      0  12.0000         0             0   \n",
       "598               3  49.000000      0      0   0.0000         0             0   \n",
       "\n",
       "             Title_Miss  Title_Mr  Title_Mrs  Title_Rev  Title_other  \\\n",
       "PassengerId                                                            \n",
       "232                   0         1          0          0            0   \n",
       "837                   0         1          0          0            0   \n",
       "640                   0         1          0          0            0   \n",
       "390                   1         0          0          0            0   \n",
       "598                   0         1          0          0            0   \n",
       "\n",
       "             Sex_female  Sex_male  Embarked_C  Embarked_Q  Embarked_S  \\\n",
       "PassengerId                                                             \n",
       "232                   0         1           0           0           1   \n",
       "837                   0         1           0           0           1   \n",
       "640                   0         1           0           0           1   \n",
       "390                   1         0           1           0           0   \n",
       "598                   0         1           0           0           1   \n",
       "\n",
       "             Survived  \n",
       "PassengerId            \n",
       "232                 0  \n",
       "837                 0  \n",
       "640                 0  \n",
       "390                 1  \n",
       "598                 0  "
      ]
     },
     "execution_count": 32,
     "metadata": {},
     "output_type": "execute_result"
    }
   ],
   "source": [
    "# drop cat_cols \n",
    "df_train.drop(cat_cols, axis=1, inplace=True)\n",
    "df_val.drop(cat_cols, axis=1, inplace=True)\n",
    "df_test.drop(cat_cols, axis=1, inplace=True)\n",
    "x.drop(cat_cols, axis=1, inplace=True)\n",
    "\n",
    "df_train.head()"
   ]
  },
  {
   "cell_type": "code",
   "execution_count": 33,
   "id": "80231046",
   "metadata": {},
   "outputs": [],
   "source": [
    "# x,y split\n",
    "\n",
    "X_train = df_train.drop(['Survived'], axis=1)\n",
    "y_train = df_train.Survived  \n",
    "X_val = df_val.drop(['Survived'], axis=1)\n",
    "y_val = df_val.Survived  \n",
    "\n"
   ]
  },
  {
   "cell_type": "markdown",
   "id": "ed99f625",
   "metadata": {},
   "source": [
    "## Models:"
   ]
  },
  {
   "cell_type": "code",
   "execution_count": 34,
   "id": "86ef97a4",
   "metadata": {},
   "outputs": [
    {
     "name": "stdout",
     "output_type": "stream",
     "text": [
      "Train Report:\n",
      "              precision    recall  f1-score   support\n",
      "\n",
      "           0       0.85      0.88      0.86       355\n",
      "           1       0.78      0.73      0.75       210\n",
      "\n",
      "    accuracy                           0.82       565\n",
      "   macro avg       0.81      0.80      0.81       565\n",
      "weighted avg       0.82      0.82      0.82       565\n",
      "\n",
      "__________________________________________________________\n",
      "Test Report:\n",
      "              precision    recall  f1-score   support\n",
      "\n",
      "           0       0.84      0.92      0.87       155\n",
      "           1       0.84      0.70      0.76        94\n",
      "\n",
      "    accuracy                           0.84       249\n",
      "   macro avg       0.84      0.81      0.82       249\n",
      "weighted avg       0.84      0.84      0.83       249\n",
      "\n"
     ]
    },
    {
     "name": "stderr",
     "output_type": "stream",
     "text": [
      "D:\\anaconda3\\lib\\site-packages\\sklearn\\linear_model\\_logistic.py:763: ConvergenceWarning: lbfgs failed to converge (status=1):\n",
      "STOP: TOTAL NO. of ITERATIONS REACHED LIMIT.\n",
      "\n",
      "Increase the number of iterations (max_iter) or scale the data as shown in:\n",
      "    https://scikit-learn.org/stable/modules/preprocessing.html\n",
      "Please also refer to the documentation for alternative solver options:\n",
      "    https://scikit-learn.org/stable/modules/linear_model.html#logistic-regression\n",
      "  n_iter_i = _check_optimize_result(\n"
     ]
    }
   ],
   "source": [
    "# LogisticRegression model \n",
    "from sklearn.linear_model import LogisticRegression\n",
    "LR = LogisticRegression(random_state=0)\n",
    "LR.fit(X_train, y_train)\n",
    "\n",
    "y_predect_train = LR.predict(X_train)\n",
    "y_predect_test  = LR.predict(X_val)\n",
    "\n",
    "# Model Score \n",
    "from sklearn.metrics import classification_report\n",
    "\n",
    "print(\"Train Report:\")\n",
    "print(classification_report(y_train, y_predect_train))\n",
    "print(\"__________________________________________________________\")\n",
    "print(\"Test Report:\")\n",
    "print(classification_report(y_val, y_predect_test))"
   ]
  },
  {
   "cell_type": "code",
   "execution_count": 35,
   "id": "81ebae05",
   "metadata": {},
   "outputs": [
    {
     "name": "stdout",
     "output_type": "stream",
     "text": [
      "Train Report:\n",
      "              precision    recall  f1-score   support\n",
      "\n",
      "           0       0.87      0.88      0.87       355\n",
      "           1       0.79      0.77      0.78       210\n",
      "\n",
      "    accuracy                           0.84       565\n",
      "   macro avg       0.83      0.83      0.83       565\n",
      "weighted avg       0.84      0.84      0.84       565\n",
      "\n",
      "__________________________________________________________\n",
      "Test Report:\n",
      "              precision    recall  f1-score   support\n",
      "\n",
      "           0       0.82      0.89      0.85       155\n",
      "           1       0.79      0.68      0.73        94\n",
      "\n",
      "    accuracy                           0.81       249\n",
      "   macro avg       0.81      0.79      0.79       249\n",
      "weighted avg       0.81      0.81      0.81       249\n",
      "\n"
     ]
    }
   ],
   "source": [
    "# AdaBoostClassifier model \n",
    "from sklearn.ensemble import AdaBoostClassifier\n",
    "AB = AdaBoostClassifier(random_state=0)\n",
    "AB.fit(X_train, y_train)\n",
    "\n",
    "y_predect_train = AB.predict(X_train)\n",
    "y_predect_test  = AB.predict(X_val)\n",
    "\n",
    "# Model Score \n",
    "from sklearn.metrics import classification_report\n",
    "\n",
    "print(\"Train Report:\")\n",
    "print(classification_report(y_train, y_predect_train))\n",
    "print(\"__________________________________________________________\")\n",
    "print(\"Test Report:\")\n",
    "print(classification_report(y_val, y_predect_test))"
   ]
  },
  {
   "cell_type": "code",
   "execution_count": 36,
   "id": "d623042f",
   "metadata": {},
   "outputs": [
    {
     "name": "stdout",
     "output_type": "stream",
     "text": [
      "Train Report:\n",
      "              precision    recall  f1-score   support\n",
      "\n",
      "           0       0.98      1.00      0.99       355\n",
      "           1       1.00      0.97      0.98       210\n",
      "\n",
      "    accuracy                           0.99       565\n",
      "   macro avg       0.99      0.98      0.98       565\n",
      "weighted avg       0.99      0.99      0.99       565\n",
      "\n",
      "__________________________________________________________\n",
      "Test Report:\n",
      "              precision    recall  f1-score   support\n",
      "\n",
      "           0       0.82      0.83      0.83       155\n",
      "           1       0.72      0.70      0.71        94\n",
      "\n",
      "    accuracy                           0.78       249\n",
      "   macro avg       0.77      0.77      0.77       249\n",
      "weighted avg       0.78      0.78      0.78       249\n",
      "\n"
     ]
    }
   ],
   "source": [
    "# DecisionTree model \n",
    "from sklearn.tree import DecisionTreeClassifier\n",
    "dt = DecisionTreeClassifier(random_state=0)\n",
    "dt.fit(X_train, y_train)\n",
    "\n",
    "y_predect_train = dt.predict(X_train)\n",
    "y_predect_test  = dt.predict(X_val)\n",
    "\n",
    "# Model Score \n",
    "from sklearn.metrics import classification_report\n",
    "\n",
    "print(\"Train Report:\")\n",
    "print(classification_report(y_train, y_predect_train))\n",
    "print(\"__________________________________________________________\")\n",
    "print(\"Test Report:\")\n",
    "print(classification_report(y_val, y_predect_test))"
   ]
  },
  {
   "cell_type": "code",
   "execution_count": 37,
   "id": "061d577c",
   "metadata": {},
   "outputs": [
    {
     "name": "stdout",
     "output_type": "stream",
     "text": [
      "Train Report:\n",
      "              precision    recall  f1-score   support\n",
      "\n",
      "           0       0.98      0.99      0.99       355\n",
      "           1       0.99      0.97      0.98       210\n",
      "\n",
      "    accuracy                           0.99       565\n",
      "   macro avg       0.99      0.98      0.98       565\n",
      "weighted avg       0.99      0.99      0.99       565\n",
      "\n",
      "__________________________________________________________\n",
      "Test Report:\n",
      "              precision    recall  f1-score   support\n",
      "\n",
      "           0       0.83      0.90      0.86       155\n",
      "           1       0.80      0.69      0.74        94\n",
      "\n",
      "    accuracy                           0.82       249\n",
      "   macro avg       0.81      0.79      0.80       249\n",
      "weighted avg       0.82      0.82      0.82       249\n",
      "\n"
     ]
    }
   ],
   "source": [
    "# RandomForest model \n",
    "from sklearn.ensemble import RandomForestClassifier\n",
    "RF = RandomForestClassifier(random_state=0)\n",
    "RF.fit(X_train, y_train)\n",
    "\n",
    "y_predect_train = RF.predict(X_train)\n",
    "y_predect_test  = RF.predict(X_val)\n",
    "\n",
    "# Model Score \n",
    "from sklearn.metrics import classification_report\n",
    "\n",
    "print(\"Train Report:\")\n",
    "print(classification_report(y_train, y_predect_train))\n",
    "print(\"__________________________________________________________\")\n",
    "print(\"Test Report:\")\n",
    "print(classification_report(y_val, y_predect_test))"
   ]
  },
  {
   "cell_type": "markdown",
   "id": "ec410340",
   "metadata": {},
   "source": [
    "## Feature importances:"
   ]
  },
  {
   "cell_type": "code",
   "execution_count": 38,
   "id": "b2391072",
   "metadata": {},
   "outputs": [
    {
     "data": {
      "text/plain": [
       "<AxesSubplot:>"
      ]
     },
     "execution_count": 38,
     "metadata": {},
     "output_type": "execute_result"
    },
    {
     "data": {
      "image/png": "[encoded data removed]",
      "text/plain": [
       "<Figure size 1440x432 with 1 Axes>"
      ]
     },
     "metadata": {
      "needs_background": "light"
     },
     "output_type": "display_data"
    }
   ],
   "source": [
    "importance = RF.feature_importances_\n",
    "plt.figure(figsize=(20,6))\n",
    "\n",
    "sns.barplot(x=x.columns, y=importance)"
   ]
  },
  {
   "cell_type": "markdown",
   "id": "16c9fcd3",
   "metadata": {},
   "source": [
    "# Function to select best parameters for a machine learning model"
   ]
  },
  {
   "cell_type": "code",
   "execution_count": 39,
   "id": "55410704",
   "metadata": {},
   "outputs": [],
   "source": [
    "from sklearn.pipeline import Pipeline\n",
    "from sklearn.impute import SimpleImputer\n",
    "from sklearn.model_selection import cross_val_score\n",
    "\n",
    "def get_score(n_estimators):\n",
    "    \n",
    "    my_pipeline = Pipeline(steps=[\n",
    "    ('preprocessor', SimpleImputer()),\n",
    "    ('model', RandomForestClassifier(n_estimators=n_estimators, random_state=0))\n",
    "    ])\n",
    "    \n",
    "    # Multiply by -1 since sklearn calculates *negative* MAE\n",
    "    scores = -1 * cross_val_score(my_pipeline, X_train, y_train,\n",
    "                                  cv=3,\n",
    "                                  scoring='neg_mean_absolute_error')\n",
    "\n",
    "    print(\"Average MAE score:\", scores.mean())\n",
    "    return scores.mean()"
   ]
  },
  {
   "cell_type": "code",
   "execution_count": 40,
   "id": "d947e9f2",
   "metadata": {},
   "outputs": [
    {
     "name": "stdout",
     "output_type": "stream",
     "text": [
      "Average MAE score: 0.20708094112349432\n",
      "Average MAE score: 0.20528912904799432\n",
      "Average MAE score: 0.20706217869338436\n",
      "Average MAE score: 0.20529851026304927\n",
      "Average MAE score: 0.2088446095538294\n",
      "Average MAE score: 0.2106176591992195\n",
      "Average MAE score: 0.21238132762955456\n",
      "Average MAE score: 0.21414499605988968\n"
     ]
    }
   ],
   "source": [
    "# Test different parameter values\n",
    "results = {}\n",
    "for i in range(8):\n",
    "    results[(i+1)*50] =get_score((i+1)*50)"
   ]
  },
  {
   "cell_type": "code",
   "execution_count": 41,
   "id": "9944569f",
   "metadata": {},
   "outputs": [
    {
     "data": {
      "image/png": "[encoded data removed]",
      "text/plain": [
       "<Figure size 432x288 with 1 Axes>"
      ]
     },
     "metadata": {
      "needs_background": "light"
     },
     "output_type": "display_data"
    }
   ],
   "source": [
    "import matplotlib.pyplot as plt\n",
    "%matplotlib inline\n",
    "\n",
    "plt.plot(list(results.keys()), list(results.values()))\n",
    "plt.show()"
   ]
  },
  {
   "cell_type": "markdown",
   "id": "89c583e5",
   "metadata": {},
   "source": [
    " the best parameter value is 100"
   ]
  },
  {
   "cell_type": "code",
   "execution_count": 45,
   "id": "fc4354f1",
   "metadata": {},
   "outputs": [
    {
     "name": "stdout",
     "output_type": "stream",
     "text": [
      "Train Report:\n",
      "              precision    recall  f1-score   support\n",
      "\n",
      "           0       0.98      0.99      0.99       355\n",
      "           1       0.99      0.97      0.98       210\n",
      "\n",
      "    accuracy                           0.99       565\n",
      "   macro avg       0.99      0.98      0.98       565\n",
      "weighted avg       0.99      0.99      0.99       565\n",
      "\n",
      "__________________________________________________________\n",
      "Test Report:\n",
      "              precision    recall  f1-score   support\n",
      "\n",
      "           0       0.83      0.90      0.86       155\n",
      "           1       0.80      0.69      0.74        94\n",
      "\n",
      "    accuracy                           0.82       249\n",
      "   macro avg       0.81      0.79      0.80       249\n",
      "weighted avg       0.82      0.82      0.82       249\n",
      "\n"
     ]
    }
   ],
   "source": [
    "# New RandomForest model \n",
    "from sklearn.ensemble import RandomForestClassifier\n",
    "RF = RandomForestClassifier(n_estimators= 100,random_state=0)\n",
    "RF.fit(X_train, y_train)\n",
    "\n",
    "y_predect_train = RF.predict(X_train)\n",
    "y_predect_test  = RF.predict(X_val)\n",
    "\n",
    "# Model Score \n",
    "from sklearn.metrics import classification_report\n",
    "\n",
    "print(\"Train Report:\")\n",
    "print(classification_report(y_train, y_predect_train))\n",
    "print(\"__________________________________________________________\")\n",
    "print(\"Test Report:\")\n",
    "print(classification_report(y_val, y_predect_test))"
   ]
  },
  {
   "cell_type": "markdown",
   "id": "3a9d92bb",
   "metadata": {},
   "source": [
    "#### LogisticRegression still has the best accuracy (0.84)"
   ]
  },
  {
   "cell_type": "markdown",
   "id": "d5ec5dbd",
   "metadata": {},
   "source": [
    "# Generate a submission"
   ]
  },
  {
   "cell_type": "code",
   "execution_count": 43,
   "id": "d3811838",
   "metadata": {},
   "outputs": [
    {
     "name": "stdout",
     "output_type": "stream",
     "text": [
      "Train Report:\n",
      "              precision    recall  f1-score   support\n",
      "\n",
      "           0       0.85      0.87      0.86       355\n",
      "           1       0.77      0.74      0.75       210\n",
      "\n",
      "    accuracy                           0.82       565\n",
      "   macro avg       0.81      0.80      0.81       565\n",
      "weighted avg       0.82      0.82      0.82       565\n",
      "\n",
      "__________________________________________________________\n",
      "Test Report:\n",
      "              precision    recall  f1-score   support\n",
      "\n",
      "           0       0.85      0.92      0.88       155\n",
      "           1       0.84      0.73      0.78        94\n",
      "\n",
      "    accuracy                           0.85       249\n",
      "   macro avg       0.85      0.83      0.83       249\n",
      "weighted avg       0.85      0.85      0.85       249\n",
      "\n"
     ]
    },
    {
     "name": "stderr",
     "output_type": "stream",
     "text": [
      "D:\\anaconda3\\lib\\site-packages\\sklearn\\linear_model\\_logistic.py:763: ConvergenceWarning: lbfgs failed to converge (status=1):\n",
      "STOP: TOTAL NO. of ITERATIONS REACHED LIMIT.\n",
      "\n",
      "Increase the number of iterations (max_iter) or scale the data as shown in:\n",
      "    https://scikit-learn.org/stable/modules/preprocessing.html\n",
      "Please also refer to the documentation for alternative solver options:\n",
      "    https://scikit-learn.org/stable/modules/linear_model.html#logistic-regression\n",
      "  n_iter_i = _check_optimize_result(\n"
     ]
    }
   ],
   "source": [
    "# Apply the model to all the data we have before submition\n",
    "X_all = pd.concat([X_train,X_val])\n",
    "y_all =  pd.concat([y_train,y_val])\n",
    "\n",
    "\n",
    "# LogisticRegression model \n",
    "from sklearn.linear_model import LogisticRegression\n",
    "LR = LogisticRegression(random_state=0)\n",
    "LR.fit(X_all, y_all)\n",
    "\n",
    "y_predect_train = LR.predict(X_train)\n",
    "y_predect_test  = LR.predict(X_val)\n",
    "\n",
    "# Model Score \n",
    "from sklearn.metrics import classification_report\n",
    "\n",
    "print(\"Train Report:\")\n",
    "print(classification_report(y_train, y_predect_train))\n",
    "print(\"__________________________________________________________\")\n",
    "print(\"Test Report:\")\n",
    "print(classification_report(y_val, y_predect_test))"
   ]
  },
  {
   "cell_type": "code",
   "execution_count": 44,
   "id": "9074e163",
   "metadata": {},
   "outputs": [],
   "source": [
    "df_test=df_test.fillna(method ='ffill')\n",
    "test_preds = LR.predict(df_test)\n",
    "test= df_test.reset_index()\n",
    "\n",
    "# Run the code to save predictions in the format used for competition scoring\n",
    "output = pd.DataFrame({'PassengerId': test.PassengerId,\n",
    "                       'Survived': test_preds})\n",
    "output.to_csv('submission.csv', index=False)\n",
    "\n"
   ]
  },
  {
   "cell_type": "markdown",
   "id": "6670ff97",
   "metadata": {},
   "source": [
    "### kaggle Score: 0.78229"
   ]
  }
 ],
 "metadata": {
  "hide_input": false,
  "kernelspec": {
   "display_name": "Python 3 (ipykernel)",
   "language": "python",
   "name": "python3"
  },
  "language_info": {
   "codemirror_mode": {
    "name": "ipython",
    "version": 3
   },
   "file_extension": ".py",
   "mimetype": "text/x-python",
   "name": "python",
   "nbconvert_exporter": "python",
   "pygments_lexer": "ipython3",
   "version": "3.9.7"
  }
 },
 "nbformat": 4,
 "nbformat_minor": 5
}
